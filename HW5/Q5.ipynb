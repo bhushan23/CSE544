{
 "cells": [
  {
   "cell_type": "code",
   "execution_count": 1,
   "metadata": {},
   "outputs": [],
   "source": [
    "import pandas as pd\n",
    "import numpy as np\n",
    "from sklearn.linear_model import LinearRegression\n",
    "import matplotlib.pyplot as plt"
   ]
  },
  {
   "cell_type": "code",
   "execution_count": 2,
   "metadata": {},
   "outputs": [],
   "source": [
    "df_2017 = pd.read_csv(\"nba2017.csv\")\n",
    "df_2016 = pd.read_csv(\"nba2016.csv\")\n",
    "df_2015 = pd.read_csv(\"nba2015.csv\")\n",
    "df_2014 = pd.read_csv(\"nba2014.csv\")\n",
    "df_2013 = pd.read_csv(\"nba2013.csv\")\n",
    "df_2012 = pd.read_csv(\"nba2012.csv\")\n",
    "df_2011 = pd.read_csv(\"nba2011.csv\")\n",
    "df_2010 = pd.read_csv(\"nba2010.csv\")"
   ]
  },
  {
   "cell_type": "code",
   "execution_count": 3,
   "metadata": {},
   "outputs": [],
   "source": [
    "df2017 = df_2017[['FG', 'ORB', 'DRB', 'TRB', 'PTS']]\n",
    "df2016 = df_2016[['FG', 'ORB', 'DRB', 'TRB', 'PTS']]\n",
    "df2015 = df_2015[['FG', 'ORB', 'DRB', 'TRB', 'PTS']]\n",
    "df2014 = df_2014[['FG', 'ORB', 'DRB', 'TRB', 'PTS']]\n",
    "df2013 = df_2013[['FG', 'ORB', 'DRB', 'TRB', 'PTS']]\n",
    "df2012 = df_2012[['FG', 'ORB', 'DRB', 'TRB', 'PTS']]\n",
    "df2011 = df_2011[['FG', 'ORB', 'DRB', 'TRB', 'PTS']]\n",
    "df2010 = df_2010[['FG', 'ORB', 'DRB', 'TRB', 'PTS']]"
   ]
  },
  {
   "cell_type": "code",
   "execution_count": 24,
   "metadata": {},
   "outputs": [],
   "source": [
    "def MultipleLinearRegression(X,Y):\n",
    "    print(\"X.shape, Y.shape\",(X.shape, Y.shape))\n",
    "    temp1 = X.T.dot(X)\n",
    "    temp2 = X.T.dot(Y)\n",
    "    temp1 = np.linalg.inv(temp1)\n",
    "    print(\"temp1.shape, temp2.shape\",(temp1.shape, temp2.shape))\n",
    "    beta_hat = temp1.dot(temp2)\n",
    "    print(\"beta_hat.shape\",beta_hat.shape)\n",
    "    return(beta_hat)"
   ]
  },
  {
   "cell_type": "markdown",
   "metadata": {},
   "source": [
    "### Part (a) Using 2016 data (change year to 2016 in url) as training, find the multiple linear regression fit for PTS as a function of only FG% and TRB (no $\\beta_0$). Treat each row as a new observation. What can you infer about the contribution of TRB to total points?"
   ]
  },
  {
   "cell_type": "code",
   "execution_count": 25,
   "metadata": {},
   "outputs": [
    {
     "name": "stdout",
     "output_type": "stream",
     "text": [
      "X.shape, Y.shape ((30, 2), (30, 1))\n",
      "temp1.shape, temp2.shape ((2, 2), (2, 1))\n",
      "beta_hat.shape (2, 1)\n",
      "[[1.99319887]\n",
      " [0.60450058]]\n"
     ]
    }
   ],
   "source": [
    "x_train = np.array(df2016[['FG', 'TRB']])\n",
    "y_train = np.array(df2016[['PTS']])\n",
    "# linreg = LinearRegression()\n",
    "# model = linreg.fit(x_train, y_train)\n",
    "beta_hat = MultipleLinearRegression(x_train, y_train)\n",
    "print(beta_hat)\n",
    "# pred = x_train.dot(beta_hat)\n",
    "# print(pred)"
   ]
  },
  {
   "cell_type": "markdown",
   "metadata": {},
   "source": [
    "## RESULTS FROM SKLEARN, REMOVE LATER\n"
   ]
  },
  {
   "cell_type": "code",
   "execution_count": 47,
   "metadata": {},
   "outputs": [
    {
     "data": {
      "text/plain": [
       "array([[1.80330389, 0.42912408]])"
      ]
     },
     "execution_count": 47,
     "metadata": {},
     "output_type": "execute_result"
    }
   ],
   "source": [
    "model.coef_"
   ]
  },
  {
   "cell_type": "markdown",
   "metadata": {},
   "source": [
    "#### Inference: TRB contributes less to the PTS as compared to FG"
   ]
  },
  {
   "cell_type": "markdown",
   "metadata": {},
   "source": [
    "### Part (b) Repeat part (a) but now also include ORB and DRB as predictors. What can you infer about the contribution of TRB to total points in this case? Explain, in words, why this happens. This is a result of Multicollinearity."
   ]
  },
  {
   "cell_type": "code",
   "execution_count": 26,
   "metadata": {},
   "outputs": [
    {
     "name": "stdout",
     "output_type": "stream",
     "text": [
      "X.shape, Y.shape ((30, 4), (30, 1))\n",
      "temp1.shape, temp2.shape ((4, 4), (4, 1))\n",
      "beta_hat.shape (4, 1)\n",
      "[[ 1.88408301]\n",
      " [ 4.48949085]\n",
      " [-4.10457579]\n",
      " [-3.68882471]]\n"
     ]
    }
   ],
   "source": [
    "x_train = np.array(df2016[['FG', 'TRB', 'ORB', 'DRB']])\n",
    "y_train = np.array(df2016[['PTS']])\n",
    "# linreg = LinearRegression()\n",
    "# model = linreg.fit(x_train, y_train)\n",
    "beta_hat = MultipleLinearRegression(x_train, y_train)\n",
    "print(beta_hat)"
   ]
  },
  {
   "cell_type": "markdown",
   "metadata": {},
   "source": [
    "## RESULTS FROM SKLEARN, REMOVE LATER"
   ]
  },
  {
   "cell_type": "code",
   "execution_count": 52,
   "metadata": {},
   "outputs": [
    {
     "data": {
      "text/plain": [
       "array([[ 1.73534637,  3.50315475, -3.23144641, -2.90025684]])"
      ]
     },
     "execution_count": 52,
     "metadata": {},
     "output_type": "execute_result"
    }
   ],
   "source": [
    "model.coef_"
   ]
  },
  {
   "cell_type": "markdown",
   "metadata": {},
   "source": [
    "#### Inference:"
   ]
  },
  {
   "cell_type": "markdown",
   "metadata": {},
   "source": [
    "### Part (c) Using 2017 as the test data (all 30 rows), and FG% and TRB as the two predictors, compute SSE and MAPE when using the following training data: (i) 2016, (ii) 2015-2016, (iii) 2010-2016."
   ]
  },
  {
   "cell_type": "code",
   "execution_count": 30,
   "metadata": {},
   "outputs": [],
   "source": [
    "# Defining the error functions\n",
    "\n",
    "def SSE(x):\n",
    "    x_bar = np.mean(x)\n",
    "    sse = 0\n",
    "    for i in x:\n",
    "        sse += (i-x_bar)**2\n",
    "    return(sse)\n",
    "    \n",
    "def MAPE(y, y_hat):\n",
    "    temp = 0\n",
    "    for i in range(len(y)):\n",
    "        temp += abs((y[i]-y_hat[i])/y[i])\n",
    "    temp = (100/len(y))*temp\n",
    "    return(temp)"
   ]
  },
  {
   "cell_type": "markdown",
   "metadata": {},
   "source": [
    "#### (i) Only 2016 training data"
   ]
  },
  {
   "cell_type": "code",
   "execution_count": 36,
   "metadata": {},
   "outputs": [
    {
     "name": "stdout",
     "output_type": "stream",
     "text": [
      "X.shape, Y.shape ((30, 2), (30, 1))\n",
      "temp1.shape, temp2.shape ((2, 2), (2, 1))\n",
      "beta_hat.shape (2, 1)\n",
      "[[1.99319887]\n",
      " [0.60450058]]\n"
     ]
    }
   ],
   "source": [
    "# Training the model\n",
    "x_train = np.array(df2016[['FG', 'TRB']])\n",
    "y_train = np.array(df2016[['PTS']])\n",
    "# linreg = LinearRegression()\n",
    "# clf = linreg.fit(x_train, y_train)\n",
    "beta_hat = MultipleLinearRegression(x_train, y_train)\n",
    "print(beta_hat)"
   ]
  },
  {
   "cell_type": "code",
   "execution_count": 37,
   "metadata": {},
   "outputs": [],
   "source": [
    "# Testing on 2017 data\n",
    "x_test = df_2017[['FG', 'TRB']]\n",
    "x_test = np.array(x_test)\n",
    "# result1 = clf.predict(x_test)\n",
    "result1 = x_test.dot(beta_hat)"
   ]
  },
  {
   "cell_type": "code",
   "execution_count": 38,
   "metadata": {},
   "outputs": [
    {
     "name": "stdout",
     "output_type": "stream",
     "text": [
      "SSE: [346.24328839]\n",
      "MAPE: [2.13562798]\n"
     ]
    }
   ],
   "source": [
    "# SSE\n",
    "sse = SSE(result1)\n",
    "print(\"SSE:\",sse)\n",
    "# MAPE\n",
    "actual = np.array(df_2017[['PTS']])\n",
    "mape = MAPE(actual, result1)\n",
    "print(\"MAPE:\",mape)"
   ]
  },
  {
   "cell_type": "markdown",
   "metadata": {},
   "source": [
    "## RESULTS FROM SKLEARN, REMOVE LATER\n"
   ]
  },
  {
   "cell_type": "code",
   "execution_count": 125,
   "metadata": {},
   "outputs": [
    {
     "name": "stdout",
     "output_type": "stream",
     "text": [
      "SSE: [259.34487381]\n",
      "MAPE: [2.08721264]\n"
     ]
    }
   ],
   "source": [
    "# SSE\n",
    "sse = SSE(result1)\n",
    "print(\"SSE:\",sse)\n",
    "# MAPE\n",
    "actual = np.array(df_2017[['PTS']])\n",
    "mape = MAPE(actual, result1)\n",
    "print(\"MAPE:\",mape)"
   ]
  },
  {
   "cell_type": "markdown",
   "metadata": {},
   "source": [
    "#### (ii) Using 2015-2016 training data"
   ]
  },
  {
   "cell_type": "code",
   "execution_count": 43,
   "metadata": {},
   "outputs": [
    {
     "name": "stdout",
     "output_type": "stream",
     "text": [
      "X.shape, Y.shape ((60, 2), (60, 1))\n",
      "temp1.shape, temp2.shape ((2, 2), (2, 1))\n",
      "beta_hat.shape (2, 1)\n"
     ]
    }
   ],
   "source": [
    "# Training the model\n",
    "x1_train = np.array(df2015[['FG', 'TRB']])\n",
    "x2_train = np.array(df2016[['FG', 'TRB']])\n",
    "x1_train = np.vstack((x1_train, x2_train))\n",
    "\n",
    "y1_train = np.array(df2015[['PTS']])\n",
    "y2_train = np.array(df2016[['PTS']])\n",
    "y1_train = np.vstack((y1_train, y2_train))\n",
    "# linreg = LinearRegression()\n",
    "# clf = linreg.fit(x1_train, y1_train)\n",
    "beta_hat = MultipleLinearRegression(x1_train, y1_train)"
   ]
  },
  {
   "cell_type": "code",
   "execution_count": 46,
   "metadata": {},
   "outputs": [],
   "source": [
    "# Testing on 2017 data\n",
    "x_test = df_2017[['FG', 'TRB']]\n",
    "x_test = np.array(x_test)\n",
    "# result2 = clf.predict(x_test)\n",
    "result2 = x_test.dot(beta_hat)"
   ]
  },
  {
   "cell_type": "code",
   "execution_count": 47,
   "metadata": {},
   "outputs": [
    {
     "name": "stdout",
     "output_type": "stream",
     "text": [
      "SSE: [364.5648547]\n",
      "MAPE: [2.14132719]\n"
     ]
    }
   ],
   "source": [
    "# SSE\n",
    "sse = SSE(result2)\n",
    "print(\"SSE:\",sse)\n",
    "# MAPE\n",
    "actual = np.array(df_2017[['PTS']])\n",
    "mape = MAPE(actual, result2)\n",
    "print(\"MAPE:\",mape)"
   ]
  },
  {
   "cell_type": "markdown",
   "metadata": {},
   "source": [
    "## RESULTS FROM SKLEARN, REMOVE LATER\n"
   ]
  },
  {
   "cell_type": "code",
   "execution_count": 129,
   "metadata": {},
   "outputs": [
    {
     "name": "stdout",
     "output_type": "stream",
     "text": [
      "SSE: [318.86031943]\n",
      "MAPE: [2.15901108]\n"
     ]
    }
   ],
   "source": [
    "# SSE\n",
    "sse = SSE(result2)\n",
    "print(\"SSE:\",sse)\n",
    "# MAPE\n",
    "actual = np.array(df_2017[['PTS']])\n",
    "mape = MAPE(actual, result2)\n",
    "print(\"MAPE:\",mape)"
   ]
  },
  {
   "cell_type": "markdown",
   "metadata": {},
   "source": [
    "#### (iii) Using 2010-2016"
   ]
  },
  {
   "cell_type": "code",
   "execution_count": 48,
   "metadata": {},
   "outputs": [
    {
     "name": "stdout",
     "output_type": "stream",
     "text": [
      "X.shape, Y.shape ((210, 2), (210, 1))\n",
      "temp1.shape, temp2.shape ((2, 2), (2, 1))\n",
      "beta_hat.shape (2, 1)\n"
     ]
    }
   ],
   "source": [
    "# Training the model\n",
    "x1_train = np.array(df2010[['FG', 'TRB']])\n",
    "x2_train = np.array(df2011[['FG', 'TRB']])\n",
    "x3_train = np.array(df2012[['FG', 'TRB']])\n",
    "x4_train = np.array(df2013[['FG', 'TRB']])\n",
    "x5_train = np.array(df2014[['FG', 'TRB']])\n",
    "x6_train = np.array(df2015[['FG', 'TRB']])\n",
    "x7_train = np.array(df2016[['FG', 'TRB']])\n",
    "x1_train = np.vstack((x1_train, x2_train, x3_train, x4_train, x5_train, x6_train, x7_train))\n",
    "\n",
    "y1_train = np.array(df2010[['PTS']])\n",
    "y2_train = np.array(df2011[['PTS']])\n",
    "y3_train = np.array(df2012[['PTS']])\n",
    "y4_train = np.array(df2013[['PTS']])\n",
    "y5_train = np.array(df2014[['PTS']])\n",
    "y6_train = np.array(df2015[['PTS']])\n",
    "y7_train = np.array(df2016[['PTS']])\n",
    "y1_train = np.vstack((y1_train, y2_train, y3_train, y4_train, y5_train, y6_train, y7_train))\n",
    "\n",
    "# linreg = LinearRegression()\n",
    "# clf = linreg.fit(x1_train, y1_train)\n",
    "beta_hat = MultipleLinearRegression(x1_train, y1_train)"
   ]
  },
  {
   "cell_type": "code",
   "execution_count": 49,
   "metadata": {},
   "outputs": [],
   "source": [
    "# Testing on 2017 data\n",
    "x_test = df_2017[['FG', 'TRB']]\n",
    "x_test = np.array(x_test)\n",
    "# result3 = clf.predict(x_test)\n",
    "result3 = x_test.dot(beta_hat)"
   ]
  },
  {
   "cell_type": "code",
   "execution_count": 50,
   "metadata": {},
   "outputs": [
    {
     "name": "stdout",
     "output_type": "stream",
     "text": [
      "SSE: [379.1476772]\n",
      "MAPE: [2.15980106]\n"
     ]
    }
   ],
   "source": [
    "# SSE\n",
    "sse = SSE(result3)\n",
    "print(\"SSE:\",sse)\n",
    "# MAPE\n",
    "actual = np.array(df_2017[['PTS']])\n",
    "mape = MAPE(actual, result3)\n",
    "print(\"MAPE:\",mape)"
   ]
  },
  {
   "cell_type": "markdown",
   "metadata": {},
   "source": [
    "## RESULTS FROM SKLEARN, REMOVE LATER\n"
   ]
  },
  {
   "cell_type": "code",
   "execution_count": 132,
   "metadata": {},
   "outputs": [
    {
     "name": "stdout",
     "output_type": "stream",
     "text": [
      "SSE: [375.63727961]\n",
      "MAPE: [2.16851898]\n"
     ]
    }
   ],
   "source": [
    "# SSE\n",
    "sse = SSE(result3)\n",
    "print(\"SSE:\",sse)\n",
    "# MAPE\n",
    "actual = np.array(df_2017[['PTS']])\n",
    "mape = MAPE(actual, result3)\n",
    "print(\"MAPE:\",mape)"
   ]
  },
  {
   "cell_type": "markdown",
   "metadata": {},
   "source": [
    "### Part (d) For (c), compute the residuals for (i), (ii), and (iii), and plot them against the predicted PTS.You should have 3 plots. What can you say about the variance of residuals as a function of predicted PTS? Why is this important? "
   ]
  },
  {
   "cell_type": "code",
   "execution_count": 52,
   "metadata": {},
   "outputs": [],
   "source": [
    "def compute_residual(y_hat, y):\n",
    "    return(y-y_hat)"
   ]
  },
  {
   "cell_type": "code",
   "execution_count": 54,
   "metadata": {},
   "outputs": [],
   "source": [
    "residual1 = compute_residual(result1,actual)\n",
    "residual2 = compute_residual(result2,actual)\n",
    "residual3 = compute_residual(result3,actual)"
   ]
  },
  {
   "cell_type": "code",
   "execution_count": 55,
   "metadata": {},
   "outputs": [
    {
     "data": {
      "image/png": "[encoded data removed]",
      "text/plain": [
       "<matplotlib.figure.Figure at 0x7f5e8a0aa8d0>"
      ]
     },
     "metadata": {},
     "output_type": "display_data"
    }
   ],
   "source": [
    "plt.plot(residual1, result1)\n",
    "plt.show()"
   ]
  },
  {
   "cell_type": "markdown",
   "metadata": {},
   "source": [
    "## RESULTS FROM SKLEARN, REMOVE LATER\n"
   ]
  },
  {
   "cell_type": "code",
   "execution_count": 150,
   "metadata": {},
   "outputs": [
    {
     "data": {
      "image/png": "[encoded data removed]",
      "text/plain": [
       "<matplotlib.figure.Figure at 0x7fd2838eccf8>"
      ]
     },
     "metadata": {},
     "output_type": "display_data"
    }
   ],
   "source": [
    "plt.plot(residual1, result1)\n",
    "plt.show()"
   ]
  },
  {
   "cell_type": "code",
   "execution_count": 56,
   "metadata": {},
   "outputs": [
    {
     "data": {
      "text/plain": [
       "[<matplotlib.lines.Line2D at 0x7f5e8a0aec88>]"
      ]
     },
     "execution_count": 56,
     "metadata": {},
     "output_type": "execute_result"
    },
    {
     "data": {
      "image/png": "[encoded data removed]",
      "text/plain": [
       "<matplotlib.figure.Figure at 0x7f5e8a13ee80>"
      ]
     },
     "metadata": {},
     "output_type": "display_data"
    }
   ],
   "source": [
    "plt.plot(result2,result2)"
   ]
  },
  {
   "cell_type": "markdown",
   "metadata": {},
   "source": [
    "## RESULTS FROM SKLEARN, REMOVE LATER\n"
   ]
  },
  {
   "cell_type": "code",
   "execution_count": 151,
   "metadata": {},
   "outputs": [
    {
     "data": {
      "text/plain": [
       "[<matplotlib.lines.Line2D at 0x7fd2838b4278>]"
      ]
     },
     "execution_count": 151,
     "metadata": {},
     "output_type": "execute_result"
    },
    {
     "data": {
      "image/png": "[encoded data removed]",
      "text/plain": [
       "<matplotlib.figure.Figure at 0x7fd2838fcac8>"
      ]
     },
     "metadata": {},
     "output_type": "display_data"
    }
   ],
   "source": [
    "plt.plot(result2,result2)"
   ]
  },
  {
   "cell_type": "code",
   "execution_count": 57,
   "metadata": {},
   "outputs": [
    {
     "data": {
      "text/plain": [
       "[<matplotlib.lines.Line2D at 0x7f5e89f0d860>]"
      ]
     },
     "execution_count": 57,
     "metadata": {},
     "output_type": "execute_result"
    },
    {
     "data": {
      "image/png": "[encoded data removed]",
      "text/plain": [
       "<matplotlib.figure.Figure at 0x7f5e8a0924a8>"
      ]
     },
     "metadata": {},
     "output_type": "display_data"
    }
   ],
   "source": [
    "plt.plot(result3,result3)"
   ]
  },
  {
   "cell_type": "markdown",
   "metadata": {},
   "source": [
    "## RESULTS FROM SKLEARN, REMOVE LATER\n"
   ]
  },
  {
   "cell_type": "code",
   "execution_count": 152,
   "metadata": {},
   "outputs": [
    {
     "data": {
      "text/plain": [
       "[<matplotlib.lines.Line2D at 0x7fd2838d5400>]"
      ]
     },
     "execution_count": 152,
     "metadata": {},
     "output_type": "execute_result"
    },
    {
     "data": {
      "image/png": "[encoded data removed]",
      "text/plain": [
       "<matplotlib.figure.Figure at 0x7fd2838ab710>"
      ]
     },
     "metadata": {},
     "output_type": "display_data"
    }
   ],
   "source": [
    "plt.plot(result3,result3)"
   ]
  },
  {
   "cell_type": "markdown",
   "metadata": {},
   "source": [
    "#### TODO"
   ]
  },
  {
   "cell_type": "markdown",
   "metadata": {},
   "source": [
    "### Part (e)  For (c), compute the residuals for (i), (ii), and (iii), and plot their distribution. You should have 3 plots. Comment on whether they are Normal. Why does Normality matter?"
   ]
  },
  {
   "cell_type": "code",
   "execution_count": 58,
   "metadata": {},
   "outputs": [
    {
     "data": {
      "image/png": "[encoded data removed]",
      "text/plain": [
       "<matplotlib.figure.Figure at 0x7f5e8a0437f0>"
      ]
     },
     "metadata": {},
     "output_type": "display_data"
    }
   ],
   "source": [
    "plt.hist(residual1)\n",
    "plt.show()"
   ]
  },
  {
   "cell_type": "markdown",
   "metadata": {},
   "source": [
    "## RESULTS FROM SKLEARN, REMOVE LATER\n"
   ]
  },
  {
   "cell_type": "code",
   "execution_count": 153,
   "metadata": {
    "scrolled": true
   },
   "outputs": [
    {
     "data": {
      "image/png": "[encoded data removed]",
      "text/plain": [
       "<matplotlib.figure.Figure at 0x7fd28389a160>"
      ]
     },
     "metadata": {},
     "output_type": "display_data"
    }
   ],
   "source": [
    "plt.hist(residual1)\n",
    "plt.show()"
   ]
  },
  {
   "cell_type": "code",
   "execution_count": 59,
   "metadata": {},
   "outputs": [
    {
     "data": {
      "image/png": "[encoded data removed]",
      "text/plain": [
       "<matplotlib.figure.Figure at 0x7f5e89f26898>"
      ]
     },
     "metadata": {},
     "output_type": "display_data"
    }
   ],
   "source": [
    "plt.hist(residual2)\n",
    "plt.show()"
   ]
  },
  {
   "cell_type": "markdown",
   "metadata": {},
   "source": [
    "## RESULTS FROM SKLEARN REMOVE LATER"
   ]
  },
  {
   "cell_type": "code",
   "execution_count": 154,
   "metadata": {},
   "outputs": [
    {
     "data": {
      "image/png": "[encoded data removed]",
      "text/plain": [
       "<matplotlib.figure.Figure at 0x7fd28386f518>"
      ]
     },
     "metadata": {},
     "output_type": "display_data"
    }
   ],
   "source": [
    "plt.hist(residual2)\n",
    "plt.show()"
   ]
  },
  {
   "cell_type": "code",
   "execution_count": 60,
   "metadata": {},
   "outputs": [
    {
     "data": {
      "image/png": "[encoded data removed]",
      "text/plain": [
       "<matplotlib.figure.Figure at 0x7f5e89ef2518>"
      ]
     },
     "metadata": {},
     "output_type": "display_data"
    }
   ],
   "source": [
    "plt.hist(residual3)\n",
    "plt.show()"
   ]
  },
  {
   "cell_type": "markdown",
   "metadata": {},
   "source": [
    "## RESULTS FROM SKLEARN REMOVE LATER"
   ]
  },
  {
   "cell_type": "code",
   "execution_count": 155,
   "metadata": {},
   "outputs": [
    {
     "data": {
      "image/png": "[encoded data removed]",
      "text/plain": [
       "<matplotlib.figure.Figure at 0x7fd2838bff28>"
      ]
     },
     "metadata": {},
     "output_type": "display_data"
    }
   ],
   "source": [
    "plt.hist(residual3)\n",
    "plt.show()"
   ]
  },
  {
   "cell_type": "markdown",
   "metadata": {},
   "source": [
    "#### TODO"
   ]
  }
 ],
 "metadata": {
  "kernelspec": {
   "display_name": "Python 3",
   "language": "python",
   "name": "python3"
  },
  "language_info": {
   "codemirror_mode": {
    "name": "ipython",
    "version": 3
   },
   "file_extension": ".py",
   "mimetype": "text/x-python",
   "name": "python",
   "nbconvert_exporter": "python",
   "pygments_lexer": "ipython3",
   "version": "3.5.2"
  }
 },
 "nbformat": 4,
 "nbformat_minor": 2
}
